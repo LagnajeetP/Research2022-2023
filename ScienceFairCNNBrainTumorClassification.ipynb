{
 "cells": [
  {
   "cell_type": "code",
   "execution_count": 1,
   "id": "d157f37a",
   "metadata": {
    "scrolled": true
   },
   "outputs": [
    {
     "name": "stdout",
     "output_type": "stream",
     "text": [
      "Epoch 1/20\n",
      "63/63 [==============================] - 105s 2s/step - loss: 1.1530 - accuracy: 0.5120 - val_loss: 0.8956 - val_accuracy: 0.6183\n",
      "Epoch 2/20\n",
      "63/63 [==============================] - 105s 2s/step - loss: 0.8084 - accuracy: 0.6663 - val_loss: 1.2065 - val_accuracy: 0.4455\n",
      "Epoch 3/20\n",
      "63/63 [==============================] - 106s 2s/step - loss: 0.6730 - accuracy: 0.7211 - val_loss: 0.6790 - val_accuracy: 0.6868\n",
      "Epoch 4/20\n",
      "63/63 [==============================] - 105s 2s/step - loss: 0.5742 - accuracy: 0.7734 - val_loss: 0.7129 - val_accuracy: 0.6671\n",
      "Epoch 5/20\n",
      "63/63 [==============================] - 105s 2s/step - loss: 0.4854 - accuracy: 0.8113 - val_loss: 0.5503 - val_accuracy: 0.7691\n",
      "Epoch 6/20\n",
      "63/63 [==============================] - 105s 2s/step - loss: 0.3900 - accuracy: 0.8426 - val_loss: 0.4406 - val_accuracy: 0.8271\n",
      "Epoch 7/20\n",
      "63/63 [==============================] - 106s 2s/step - loss: 0.3216 - accuracy: 0.8705 - val_loss: 0.4987 - val_accuracy: 0.8028\n",
      "Epoch 8/20\n",
      "63/63 [==============================] - 106s 2s/step - loss: 0.2557 - accuracy: 0.8984 - val_loss: 0.4421 - val_accuracy: 0.8399\n",
      "Epoch 9/20\n",
      "63/63 [==============================] - 105s 2s/step - loss: 0.2174 - accuracy: 0.9173 - val_loss: 0.3903 - val_accuracy: 0.8573\n",
      "Epoch 10/20\n",
      "63/63 [==============================] - 105s 2s/step - loss: 0.1844 - accuracy: 0.9258 - val_loss: 0.3486 - val_accuracy: 0.8817\n",
      "Epoch 11/20\n",
      "63/63 [==============================] - 111s 2s/step - loss: 0.1650 - accuracy: 0.9348 - val_loss: 0.3713 - val_accuracy: 0.8875\n",
      "Epoch 12/20\n",
      "63/63 [==============================] - 108s 2s/step - loss: 0.1385 - accuracy: 0.9452 - val_loss: 0.3623 - val_accuracy: 0.8991\n",
      "Epoch 13/20\n",
      "63/63 [==============================] - 109s 2s/step - loss: 0.1333 - accuracy: 0.9607 - val_loss: 0.4310 - val_accuracy: 0.8852\n",
      "Epoch 14/20\n",
      "63/63 [==============================] - 110s 2s/step - loss: 0.0972 - accuracy: 0.9676 - val_loss: 0.3553 - val_accuracy: 0.8828\n",
      "Epoch 15/20\n",
      "63/63 [==============================] - 108s 2s/step - loss: 0.0912 - accuracy: 0.9686 - val_loss: 0.4626 - val_accuracy: 0.8852\n",
      "Epoch 16/20\n",
      "63/63 [==============================] - 107s 2s/step - loss: 0.0689 - accuracy: 0.9776 - val_loss: 0.3600 - val_accuracy: 0.9049\n",
      "Epoch 17/20\n",
      "63/63 [==============================] - 109s 2s/step - loss: 0.0590 - accuracy: 0.9766 - val_loss: 0.4228 - val_accuracy: 0.8944\n",
      "Epoch 18/20\n",
      "63/63 [==============================] - 110s 2s/step - loss: 0.0633 - accuracy: 0.9756 - val_loss: 0.3602 - val_accuracy: 0.9037\n",
      "Epoch 19/20\n",
      "63/63 [==============================] - 109s 2s/step - loss: 0.0653 - accuracy: 0.9776 - val_loss: 0.3942 - val_accuracy: 0.9014\n",
      "Epoch 20/20\n",
      "63/63 [==============================] - 111s 2s/step - loss: 0.0411 - accuracy: 0.9866 - val_loss: 0.4398 - val_accuracy: 0.9060\n"
     ]
    },
    {
     "name": "stderr",
     "output_type": "stream",
     "text": [
      "WARNING:absl:Found untraced functions such as _jit_compiled_convolution_op, _jit_compiled_convolution_op, _jit_compiled_convolution_op, _jit_compiled_convolution_op while saving (showing 4 of 4). These functions will not be directly callable after loading.\n"
     ]
    },
    {
     "name": "stdout",
     "output_type": "stream",
     "text": [
      "INFO:tensorflow:Assets written to: braintumorcnnmodel\\assets\n"
     ]
    },
    {
     "name": "stderr",
     "output_type": "stream",
     "text": [
      "INFO:tensorflow:Assets written to: braintumorcnnmodel\\assets\n"
     ]
    }
   ],
   "source": [
    "import tensorflow as tf \n",
    "from tensorflow.keras.models import Sequential\n",
    "from tensorflow.keras.layers import Dense, Dropout, Activation, Flatten, Conv2D, MaxPooling2D \n",
    "import pickle \n",
    "from tensorflow.keras.callbacks import TensorBoard \n",
    "import time \n",
    "NAME = \"i2-cnn-{}\".format(int(time.time())) \n",
    "tensorboard = TensorBoard(log_dir=\"\\logs\\{}\".format(NAME))\n",
    "\n",
    "X= pickle.load(open(\"X.pickle\",\"rb\")) \n",
    "y= pickle.load(open(\"y.pickle\",\"rb\"))\n",
    "\n",
    "X = X/255.0\n",
    "\n",
    "model1 = Sequential()\n",
    "\n",
    "model1.add(Conv2D(filters=64,kernel_size = (5,5), padding='Same',activation ='relu' ,input_shape=X.shape[1:])) \n",
    "model1.add(MaxPooling2D(pool_size=(2,2))) \n",
    "model1.add(Dropout(0.25))\n",
    "\n",
    "model1.add(Conv2D(filters=128,kernel_size = (3,3), padding='Same', activation='relu'))\n",
    "model1.add(MaxPooling2D(pool_size=(2,2))) \n",
    "model1.add(Dropout(0.25))\n",
    "\n",
    "model1.add(Conv2D(filters=128,kernel_size = (3,3), padding='Same', activation='relu')) \n",
    "model1.add(MaxPooling2D(pool_size=(2,2), strides=(2,2))) \n",
    "model1.add(Dropout(0.25))\n",
    "\n",
    "model1.add(Conv2D(filters=256,kernel_size = (2,2), padding='Same', activation='relu')) \n",
    "model1.add(MaxPooling2D(pool_size=(2,2),strides=(2,2))) \n",
    "model1.add(Dropout(0.3))\n",
    "\n",
    "model1.add(Flatten()) \n",
    "model1.add(Dense(1024,activation='relu')) \n",
    "model1.add(Dropout(0.5)) \n",
    "model1.add(Dense(4, activation=\"softmax\"))\n",
    "\n",
    "model1.compile(loss='sparse_categorical_crossentropy', optimizer='adam', metrics=['accuracy']) \n",
    "model1.fit(X, y, batch_size=32, epochs=20, validation_split=0.3, callbacks=[tensorboard])\n",
    "\n",
    "model1.save('braintumorcnnmodel')"
   ]
  },
  {
   "cell_type": "markdown",
   "id": "1de993c0",
   "metadata": {},
   "source": []
  },
  {
   "cell_type": "code",
   "execution_count": null,
   "id": "5270af02",
   "metadata": {},
   "outputs": [],
   "source": []
  }
 ],
 "metadata": {
  "kernelspec": {
   "display_name": "Python 3 (ipykernel)",
   "language": "python",
   "name": "python3"
  },
  "language_info": {
   "codemirror_mode": {
    "name": "ipython",
    "version": 3
   },
   "file_extension": ".py",
   "mimetype": "text/x-python",
   "name": "python",
   "nbconvert_exporter": "python",
   "pygments_lexer": "ipython3",
   "version": "3.10.6"
  }
 },
 "nbformat": 4,
 "nbformat_minor": 5
}
